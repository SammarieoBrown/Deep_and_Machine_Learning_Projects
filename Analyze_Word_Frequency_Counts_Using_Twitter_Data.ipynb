{
  "nbformat": 4,
  "nbformat_minor": 0,
  "metadata": {
    "colab": {
      "name": "Analyze Word Frequency Counts Using Twitter Data.ipynb",
      "provenance": [],
      "collapsed_sections": [],
      "authorship_tag": "ABX9TyMXOP8BXC+Z+aI5CN+2AOmy"
    },
    "kernelspec": {
      "name": "python3",
      "display_name": "Python 3"
    },
    "language_info": {
      "name": "python"
    }
  },
  "cells": [
    {
      "cell_type": "code",
      "metadata": {
        "id": "NLx_MhaZGSaf"
      },
      "source": [
        "import os\n",
        "import pandas as pd\n",
        "import matplotlib.pyplot as plt\n",
        "import seaborn as sns\n",
        "import itertools\n",
        "import collections\n",
        "\n",
        "import tweepy as tw\n",
        "import nltk\n",
        "from nltk.corpus import stopwords\n",
        "import re\n",
        "import networkx\n",
        "\n",
        "import warnings\n",
        "warnings.filterwarnings(\"ignore\")\n",
        "\n",
        "sns.set(font_scale=1.5)\n",
        "sns.set_style(\"whitegrid\")"
      ],
      "execution_count": null,
      "outputs": []
    },
    {
      "cell_type": "code",
      "metadata": {
        "id": "cKaQgwZuGflG"
      },
      "source": [
        "consumer_key = \"YLNvf86SD4ax201svZIY5x1RR\"\n",
        "consumer_secret = \"ODjTIYzstASFaVZSvilvA1HVrPLFjl8vFEYcivmR3RjbSqdrEa\"\n",
        "access_token = \"1146521681432842241-yqeE4HeIL0b78mFGlk6cYRHaSf5n4t\"\n",
        "access_token_secret = \"ya76etXKILC6EAx02cPUkNdi1vayclZgZPgV2a140nXA2\""
      ],
      "execution_count": null,
      "outputs": []
    },
    {
      "cell_type": "code",
      "metadata": {
        "id": "NZ92vzOEGlUh"
      },
      "source": [
        "auth = tw.OAuthHandler(consumer_key, consumer_secret)\n",
        "auth.set_access_token(access_token, access_token_secret)\n",
        "api = tw.API(auth, wait_on_rate_limit=True)"
      ],
      "execution_count": null,
      "outputs": []
    },
    {
      "cell_type": "code",
      "metadata": {
        "colab": {
          "base_uri": "https://localhost:8080/"
        },
        "id": "NRStK2XtGoM9",
        "outputId": "2dc0288d-db2f-4da3-ef5e-71be5fad39ec"
      },
      "source": [
        "search_term = \"#skillibeng -filter:retweets\"\n",
        "\n",
        "tweets = tw.Cursor(api.search,\n",
        "                   q=search_term,\n",
        "                   lang=\"en\",\n",
        "                   since='2021-01-01').items(1000)\n",
        "\n",
        "all_tweets = [tweet.text for tweet in tweets]\n",
        "\n",
        "all_tweets[:5]"
      ],
      "execution_count": null,
      "outputs": [
        {
          "output_type": "execute_result",
          "data": {
            "text/plain": [
              "['@NICKIMINAJ when I tell you I love crocodile teeth remix with #SkilliBeng 🥰 such a vibe. https://t.co/wP0v6A3GuZ',\n",
              " \".@NICKIMINAJ on the Hot 50 this week (excluding the 5 Top 10's):\\n\\n#11, Chi-Raq (with @gherbo)\\n#12, Crocodile Teeth… https://t.co/vfzh1xrWse\",\n",
              " '@JamaicaObserver Congratulations #Skillibeng',\n",
              " '@khem6up ❌ #Skillibeng Dropped 🆕Music/🆕Video Called 🔊🔊”Bad Bitch”📢 Produced By #Keelykeyz  Directed By 🎥🎬 #Rxsh.hou… https://t.co/EkrZxZuaSN',\n",
              " '@khem6up ❌ #Skillibeng Dropped 🆕Music/🆕Video Called 🔊🔊”Bad Bitch”📢 Produced By #Keelykeyz  Directed By 🎥🎬 #Rxsh.hou… https://t.co/cFIZLpLOeA']"
            ]
          },
          "metadata": {
            "tags": []
          },
          "execution_count": 15
        }
      ]
    },
    {
      "cell_type": "code",
      "metadata": {
        "id": "s7zsmaH7G3dN"
      },
      "source": [
        "def remove_url(txt):\n",
        "    return \" \".join(re.sub(\"([^0-9A-Za-z \\t])|(\\w+:\\/\\/\\S+)\", \"\", txt).split())"
      ],
      "execution_count": null,
      "outputs": []
    },
    {
      "cell_type": "code",
      "metadata": {
        "colab": {
          "base_uri": "https://localhost:8080/"
        },
        "id": "zJcr_iTXHBuQ",
        "outputId": "561c23c6-b5a4-4ae1-8a6f-2bdba730b0da"
      },
      "source": [
        "\n",
        "all_tweets_no_urls = [remove_url(tweet) for tweet in all_tweets]\n",
        "all_tweets_no_urls[:5]"
      ],
      "execution_count": null,
      "outputs": [
        {
          "output_type": "execute_result",
          "data": {
            "text/plain": [
              "['NICKIMINAJ when I tell you I love crocodile teeth remix with SkilliBeng such a vibe',\n",
              " 'NICKIMINAJ on the Hot 50 this week excluding the 5 Top 10s11 ChiRaq with gherbo12 Crocodile Teeth',\n",
              " 'JamaicaObserver Congratulations Skillibeng',\n",
              " 'khem6up Skillibeng Dropped MusicVideo Called Bad Bitch Produced By Keelykeyz Directed By Rxshhou',\n",
              " 'khem6up Skillibeng Dropped MusicVideo Called Bad Bitch Produced By Keelykeyz Directed By Rxshhou']"
            ]
          },
          "metadata": {
            "tags": []
          },
          "execution_count": 17
        }
      ]
    },
    {
      "cell_type": "code",
      "metadata": {
        "colab": {
          "base_uri": "https://localhost:8080/"
        },
        "id": "LcYtxWTqHD-o",
        "outputId": "d242f2b3-f18b-4ffd-baf7-c1ff0b33f998"
      },
      "source": [
        "# Split the words from one tweet into unique elements\n",
        "all_tweets_no_urls[0].lower().split()"
      ],
      "execution_count": null,
      "outputs": [
        {
          "output_type": "execute_result",
          "data": {
            "text/plain": [
              "['nickiminaj',\n",
              " 'when',\n",
              " 'i',\n",
              " 'tell',\n",
              " 'you',\n",
              " 'i',\n",
              " 'love',\n",
              " 'crocodile',\n",
              " 'teeth',\n",
              " 'remix',\n",
              " 'with',\n",
              " 'skillibeng',\n",
              " 'such',\n",
              " 'a',\n",
              " 'vibe']"
            ]
          },
          "metadata": {
            "tags": []
          },
          "execution_count": 18
        }
      ]
    },
    {
      "cell_type": "code",
      "metadata": {
        "colab": {
          "base_uri": "https://localhost:8080/"
        },
        "id": "ipiSqeWfHP0S",
        "outputId": "09c964bf-a44e-4835-c02d-1c3a99d19f11"
      },
      "source": [
        "# Create a list of lists containing lowercase words for each tweet\n",
        "words_in_tweet = [tweet.lower().split() for tweet in all_tweets_no_urls]\n",
        "words_in_tweet[:2]"
      ],
      "execution_count": null,
      "outputs": [
        {
          "output_type": "execute_result",
          "data": {
            "text/plain": [
              "[['nickiminaj',\n",
              "  'when',\n",
              "  'i',\n",
              "  'tell',\n",
              "  'you',\n",
              "  'i',\n",
              "  'love',\n",
              "  'crocodile',\n",
              "  'teeth',\n",
              "  'remix',\n",
              "  'with',\n",
              "  'skillibeng',\n",
              "  'such',\n",
              "  'a',\n",
              "  'vibe'],\n",
              " ['nickiminaj',\n",
              "  'on',\n",
              "  'the',\n",
              "  'hot',\n",
              "  '50',\n",
              "  'this',\n",
              "  'week',\n",
              "  'excluding',\n",
              "  'the',\n",
              "  '5',\n",
              "  'top',\n",
              "  '10s11',\n",
              "  'chiraq',\n",
              "  'with',\n",
              "  'gherbo12',\n",
              "  'crocodile',\n",
              "  'teeth']]"
            ]
          },
          "metadata": {
            "tags": []
          },
          "execution_count": 19
        }
      ]
    },
    {
      "cell_type": "code",
      "metadata": {
        "colab": {
          "base_uri": "https://localhost:8080/"
        },
        "id": "Fhb5p7kuHTwx",
        "outputId": "c7b410bd-31e3-4d50-ec34-84cce97ef747"
      },
      "source": [
        "# List of all words across tweets\n",
        "all_words_no_urls = list(itertools.chain(*words_in_tweet))\n",
        "\n",
        "# Create counter\n",
        "counts_no_urls = collections.Counter(all_words_no_urls)\n",
        "\n",
        "counts_no_urls.most_common(15)"
      ],
      "execution_count": null,
      "outputs": [
        {
          "output_type": "execute_result",
          "data": {
            "text/plain": [
              "[('skillibeng', 38),\n",
              " ('on', 12),\n",
              " ('the', 10),\n",
              " ('nickiminaj', 9),\n",
              " ('a', 9),\n",
              " ('by', 9),\n",
              " ('this', 7),\n",
              " ('for', 7),\n",
              " ('me', 7),\n",
              " ('crocodile', 6),\n",
              " ('remix', 6),\n",
              " ('x', 6),\n",
              " ('guide', 6),\n",
              " ('music', 6),\n",
              " ('video', 6)]"
            ]
          },
          "metadata": {
            "tags": []
          },
          "execution_count": 20
        }
      ]
    },
    {
      "cell_type": "code",
      "metadata": {
        "colab": {
          "base_uri": "https://localhost:8080/",
          "height": 202
        },
        "id": "8JQNc32zHWWS",
        "outputId": "ba746c12-dbc7-4d12-b3e8-e7e71750ae61"
      },
      "source": [
        "clean_tweets_no_urls = pd.DataFrame(counts_no_urls.most_common(15),\n",
        "                             columns=['words', 'count'])\n",
        "\n",
        "clean_tweets_no_urls.head()"
      ],
      "execution_count": null,
      "outputs": [
        {
          "output_type": "execute_result",
          "data": {
            "text/html": [
              "<div>\n",
              "<style scoped>\n",
              "    .dataframe tbody tr th:only-of-type {\n",
              "        vertical-align: middle;\n",
              "    }\n",
              "\n",
              "    .dataframe tbody tr th {\n",
              "        vertical-align: top;\n",
              "    }\n",
              "\n",
              "    .dataframe thead th {\n",
              "        text-align: right;\n",
              "    }\n",
              "</style>\n",
              "<table border=\"1\" class=\"dataframe\">\n",
              "  <thead>\n",
              "    <tr style=\"text-align: right;\">\n",
              "      <th></th>\n",
              "      <th>words</th>\n",
              "      <th>count</th>\n",
              "    </tr>\n",
              "  </thead>\n",
              "  <tbody>\n",
              "    <tr>\n",
              "      <th>0</th>\n",
              "      <td>skillibeng</td>\n",
              "      <td>38</td>\n",
              "    </tr>\n",
              "    <tr>\n",
              "      <th>1</th>\n",
              "      <td>on</td>\n",
              "      <td>12</td>\n",
              "    </tr>\n",
              "    <tr>\n",
              "      <th>2</th>\n",
              "      <td>the</td>\n",
              "      <td>10</td>\n",
              "    </tr>\n",
              "    <tr>\n",
              "      <th>3</th>\n",
              "      <td>nickiminaj</td>\n",
              "      <td>9</td>\n",
              "    </tr>\n",
              "    <tr>\n",
              "      <th>4</th>\n",
              "      <td>a</td>\n",
              "      <td>9</td>\n",
              "    </tr>\n",
              "  </tbody>\n",
              "</table>\n",
              "</div>"
            ],
            "text/plain": [
              "        words  count\n",
              "0  skillibeng     38\n",
              "1          on     12\n",
              "2         the     10\n",
              "3  nickiminaj      9\n",
              "4           a      9"
            ]
          },
          "metadata": {
            "tags": []
          },
          "execution_count": 21
        }
      ]
    },
    {
      "cell_type": "code",
      "metadata": {
        "colab": {
          "base_uri": "https://localhost:8080/",
          "height": 513
        },
        "id": "fIdvjXGMHZPg",
        "outputId": "5dbc5ce3-b894-4e00-f4c7-5d1b5bb0ea7b"
      },
      "source": [
        "fig, ax = plt.subplots(figsize=(8, 8))\n",
        "\n",
        "# Plot horizontal bar graph\n",
        "clean_tweets_no_urls.sort_values(by='count').plot.barh(x='words',\n",
        "                      y='count',\n",
        "                      ax=ax,\n",
        "                      color=\"purple\")\n",
        "\n",
        "ax.set_title(\"Common Words Found in Tweets (Including All Words)\")\n",
        "\n",
        "plt.show()"
      ],
      "execution_count": null,
      "outputs": [
        {
          "output_type": "display_data",
          "data": {
            "image/png": "[encoded data removed]",
            "text/plain": [
              "<Figure size 576x576 with 1 Axes>"
            ]
          },
          "metadata": {
            "tags": []
          }
        }
      ]
    },
    {
      "cell_type": "markdown",
      "metadata": {
        "id": "kLbIjWYSHmft"
      },
      "source": [
        "Removing Stopwords\n"
      ]
    },
    {
      "cell_type": "code",
      "metadata": {
        "colab": {
          "base_uri": "https://localhost:8080/"
        },
        "id": "7-wtyJ55Hpml",
        "outputId": "a350efb9-9bab-462d-e2ab-9ada0a7e7c55"
      },
      "source": [
        "nltk.download('stopwords')"
      ],
      "execution_count": null,
      "outputs": [
        {
          "output_type": "stream",
          "text": [
            "[nltk_data] Downloading package stopwords to /root/nltk_data...\n",
            "[nltk_data]   Unzipping corpora/stopwords.zip.\n"
          ],
          "name": "stdout"
        },
        {
          "output_type": "execute_result",
          "data": {
            "text/plain": [
              "True"
            ]
          },
          "metadata": {
            "tags": []
          },
          "execution_count": 23
        }
      ]
    },
    {
      "cell_type": "code",
      "metadata": {
        "colab": {
          "base_uri": "https://localhost:8080/"
        },
        "id": "4njMf-jGHrD4",
        "outputId": "44a67079-2b2a-4829-bf5d-057f51d20684"
      },
      "source": [
        "stop_words = set(stopwords.words('english'))\n",
        "\n",
        "# View a few words from the set\n",
        "list(stop_words)[0:10]"
      ],
      "execution_count": null,
      "outputs": [
        {
          "output_type": "execute_result",
          "data": {
            "text/plain": [
              "['a', 'through', 'my', 'some', 'off', 'until', 'we', 'i', \"don't\", 'whom']"
            ]
          },
          "metadata": {
            "tags": []
          },
          "execution_count": 24
        }
      ]
    },
    {
      "cell_type": "code",
      "metadata": {
        "colab": {
          "base_uri": "https://localhost:8080/"
        },
        "id": "muoBCJSUHtXF",
        "outputId": "0907b901-4e55-4257-86a3-56982ca57dce"
      },
      "source": [
        "words_in_tweet[0]"
      ],
      "execution_count": null,
      "outputs": [
        {
          "output_type": "execute_result",
          "data": {
            "text/plain": [
              "['nickiminaj',\n",
              " 'when',\n",
              " 'i',\n",
              " 'tell',\n",
              " 'you',\n",
              " 'i',\n",
              " 'love',\n",
              " 'crocodile',\n",
              " 'teeth',\n",
              " 'remix',\n",
              " 'with',\n",
              " 'skillibeng',\n",
              " 'such',\n",
              " 'a',\n",
              " 'vibe']"
            ]
          },
          "metadata": {
            "tags": []
          },
          "execution_count": 25
        }
      ]
    },
    {
      "cell_type": "code",
      "metadata": {
        "colab": {
          "base_uri": "https://localhost:8080/"
        },
        "id": "EbBuoEVqHwJG",
        "outputId": "a10c0b86-3bf4-44e2-a53a-ccf9344a9011"
      },
      "source": [
        "# Remove stop words from each tweet list of words\n",
        "tweets_nsw = [[word for word in tweet_words if not word in stop_words]\n",
        "              for tweet_words in words_in_tweet]\n",
        "\n",
        "tweets_nsw[0]"
      ],
      "execution_count": null,
      "outputs": [
        {
          "output_type": "execute_result",
          "data": {
            "text/plain": [
              "['nickiminaj',\n",
              " 'tell',\n",
              " 'love',\n",
              " 'crocodile',\n",
              " 'teeth',\n",
              " 'remix',\n",
              " 'skillibeng',\n",
              " 'vibe']"
            ]
          },
          "metadata": {
            "tags": []
          },
          "execution_count": 26
        }
      ]
    },
    {
      "cell_type": "code",
      "metadata": {
        "colab": {
          "base_uri": "https://localhost:8080/"
        },
        "id": "ovWs3tQpH8f8",
        "outputId": "90acb0cc-b5b0-4755-a0c7-36c90502b9c4"
      },
      "source": [
        "all_words_nsw = list(itertools.chain(*tweets_nsw))\n",
        "\n",
        "counts_nsw = collections.Counter(all_words_nsw)\n",
        "\n",
        "counts_nsw.most_common(15)\n"
      ],
      "execution_count": null,
      "outputs": [
        {
          "output_type": "execute_result",
          "data": {
            "text/plain": [
              "[('skillibeng', 38),\n",
              " ('nickiminaj', 9),\n",
              " ('crocodile', 6),\n",
              " ('remix', 6),\n",
              " ('x', 6),\n",
              " ('guide', 6),\n",
              " ('music', 6),\n",
              " ('video', 6),\n",
              " ('teeth', 5),\n",
              " ('bad', 5),\n",
              " ('official', 5),\n",
              " ('crocodileteethremix', 5),\n",
              " ('bitch', 4),\n",
              " ('new', 4),\n",
              " ('via', 4)]"
            ]
          },
          "metadata": {
            "tags": []
          },
          "execution_count": 27
        }
      ]
    },
    {
      "cell_type": "code",
      "metadata": {
        "colab": {
          "base_uri": "https://localhost:8080/",
          "height": 513
        },
        "id": "w60BZx4EH_DP",
        "outputId": "17aae946-ab29-4df1-a89c-3d6f5badb423"
      },
      "source": [
        "clean_tweets_nsw = pd.DataFrame(counts_nsw.most_common(15),\n",
        "                             columns=['words', 'count'])\n",
        "\n",
        "fig, ax = plt.subplots(figsize=(8, 8))\n",
        "\n",
        "# Plot horizontal bar graph\n",
        "clean_tweets_nsw.sort_values(by='count').plot.barh(x='words',\n",
        "                      y='count',\n",
        "                      ax=ax,\n",
        "                      color=\"purple\")\n",
        "\n",
        "ax.set_title(\"Common Words Found in Tweets (Without Stop Words)\")\n",
        "\n",
        "plt.show()"
      ],
      "execution_count": null,
      "outputs": [
        {
          "output_type": "display_data",
          "data": {
            "image/png": "[encoded data removed]",
            "text/plain": [
              "<Figure size 576x576 with 1 Axes>"
            ]
          },
          "metadata": {
            "tags": []
          }
        }
      ]
    },
    {
      "cell_type": "code",
      "metadata": {
        "id": "U_7YUPKkIB8f"
      },
      "source": [
        ""
      ],
      "execution_count": null,
      "outputs": []
    },
    {
      "cell_type": "markdown",
      "metadata": {
        "id": "LoqfvftUIFMs"
      },
      "source": [
        "Removing Collection Words"
      ]
    },
    {
      "cell_type": "code",
      "metadata": {
        "id": "fo5-pRIOIHkA"
      },
      "source": [
        ""
      ],
      "execution_count": null,
      "outputs": []
    }
  ]
}